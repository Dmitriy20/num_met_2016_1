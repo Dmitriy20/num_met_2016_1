{
 "cells": [
  {
   "cell_type": "markdown",
   "metadata": {},
   "source": [
    "# Лабораторная работа №6"
   ]
  },
  {
   "cell_type": "markdown",
   "metadata": {},
   "source": [
    "## Численный поиск экстремума функции многих переменных"
   ]
  },
  {
   "cell_type": "markdown",
   "metadata": {},
   "source": [
    "### Задание 1"
   ]
  },
  {
   "cell_type": "markdown",
   "metadata": {},
   "source": [
    "*Найти точку минимума функции $f(x_1, x_2) =2\\cdot(x_1)^2+3\\cdot(x_2-1.5)^2+1; [x_1^0= -1, x_2^0= 2]$ методом\n",
    "Ньютона. $(x_1^0,x_2^0)$-начальная точка. Обеспечить работу программы с функциями любой размерности (до 10 включительно). Построить график функции В окрестности точки максимума оценить овражность, построить\n",
    "линии уровня и траекторию поиска.*"
   ]
  },
  {
   "cell_type": "markdown",
   "metadata": {},
   "source": [
    "Большинство процессов, используемых для приближенного нахожения экстремума можно представить как итерационные в виде $x^{k+1} = x^k + \\alpha^kp^k$, где $p^k$- вектор, определяющий направление движения от точки $x^k$ к точке $x^{k+1}$, $\\alpha^k$ - числовой множитель, величина которого задаетдлину шага в направлении $p^k$.\n"
   ]
  },
  {
   "cell_type": "markdown",
   "metadata": {},
   "source": [
    "Среди методов второго порядка основными являются методы,\n",
    "связанные с идеей локальной аппроксимации заданной функции квадратичной функцией.Для получения итерационной формулы мнтода Ньютона, запишем для функции $f(x)$ в окрестности точки $x^k$ формулу Тейлора 2-го порядка."
   ]
  },
  {
   "cell_type": "markdown",
   "metadata": {},
   "source": [
    "$Q_k(x) = f(x^k)+(\\nabla f(x^k)(x-x^k))+\\frac{1}{2}(\\Delta f(x^k)(x−x^k)(x-x^k)).$ В случае, когда гессиан $\\Delta f(x^k)$ положительно определен, квадратичная функция $Q_k(x)$ достигает глобального минимума в точке $x^{k+1} = x^k − [\\Delta f(x^k)]^{−1}\\nabla f(x^k)$. Это и  есть итерационная формула метода Ньютона."
   ]
  },
  {
   "cell_type": "markdown",
   "metadata": {},
   "source": [
    "Таким образом, в этом методе $ \\alpha ^k = 1$ и $p^k = -[\\Delta f(x^k)]^{-1}\\nabla f(x^k)$. Практически $p^k$ удобнее искать, решая систему линейных уравнений $[\\nabla^2f(x^k)]p^k = -\\nabla f(x^k)$"
   ]
  },
  {
   "cell_type": "code",
   "execution_count": 1,
   "metadata": {
    "collapsed": true
   },
   "outputs": [],
   "source": [
    "import numpy as np\n",
    "from scipy import *\n",
    "from scipy.linalg import *\n",
    "from mpl_toolkits.mplot3d import Axes3D\n",
    "import matplotlib.pyplot as plt\n",
    "import pylab\n",
    "from matplotlib import cm"
   ]
  },
  {
   "cell_type": "code",
   "execution_count": 2,
   "metadata": {
    "collapsed": true
   },
   "outputs": [],
   "source": [
    "def f (p):\n",
    "    z=2*(p[0])**2+3*(p[1]-1.5)**2+1\n",
    "    return z"
   ]
  },
  {
   "cell_type": "markdown",
   "metadata": {},
   "source": [
    "*График функции*"
   ]
  },
  {
   "cell_type": "code",
   "execution_count": 3,
   "metadata": {
    "collapsed": false
   },
   "outputs": [],
   "source": [
    "x = np.arange (-30, 30, 1)\n",
    "y = np.arange (-30, 30, 1)\n",
    "xg, yg,=np.meshgrid(x, y)\n",
    "z =f(np.meshgrid(x, y))\n",
    "fig = pylab.figure()\n",
    "axes = Axes3D(fig)\n",
    "axes.plot_surface(xg, yg, z,rstride=4, cstride=4, cmap = cm.jet)\n",
    "pylab.show()"
   ]
  },
  {
   "cell_type": "markdown",
   "metadata": {},
   "source": [
    "*Программа может работать с исходной функцией в режиме «черного ящика» (black box)*"
   ]
  },
  {
   "cell_type": "code",
   "execution_count": 4,
   "metadata": {
    "collapsed": false
   },
   "outputs": [
    {
     "name": "stdout",
     "output_type": "stream",
     "text": [
      " \n",
      "[[ -1.00000000e+00   2.00000000e+00]\n",
      " [  1.11022302e-13   1.50000000e+00]]\n"
     ]
    }
   ],
   "source": [
    "def M (F,point,e):\n",
    "    p=np.array(point,dtype=np.double)\n",
    "    pn=np.array(point,dtype=np.double)\n",
    "    X=np.array(point,dtype=np.double)\n",
    "    n=0\n",
    "    while True:\n",
    "        # grad\n",
    "        h=0.01\n",
    "        g=[]\n",
    "        for i in range(len(point)):\n",
    "            q=F(p)\n",
    "            p[i]=p[i]+h\n",
    "            r= F(p)\n",
    "            p[i]=p[i]+h\n",
    "            c=F(p)\n",
    "            df=(-3*q+4*r-c)/(2*h)\n",
    "            p[i]=p[i]-2*h\n",
    "            g.append(df)\n",
    "        g=np.array(g,dtype=np.double)\n",
    "        g=-g\n",
    "        g=transpose(g)\n",
    "    \n",
    "       \n",
    "        H=np.zeros((len(p), len(p)),dtype=np.double)\n",
    "        for i in range(len(p)):\n",
    "            for j in range(len(p)):\n",
    "                    p[i]=p[i]+h\n",
    "                    p[j]= p[j]+h\n",
    "                    q=F(p)\n",
    "                    p[j]= p[j]-2*h\n",
    "                    c=F(p)\n",
    "                    p[i]=p[i]-2*h\n",
    "                    p[j]= p[j]+2*h\n",
    "                    r=F(p)\n",
    "                    p[j]= p[j]-2*h\n",
    "                    b=F(p)\n",
    "                    p=np.array(pn,dtype=np.double)\n",
    "                    ddf=(q-r-c+b)/(4*h**2)\n",
    "                    H[i][j]=ddf\n",
    "\n",
    "        a=solve(H,g)\n",
    "        pn=p+a \n",
    "        n=n+1\n",
    "        if norm(F(p)-F(pn))<e:\n",
    "            break  \n",
    "        X=np.row_stack((X, pn))\n",
    "        p=pn \n",
    "    return X\n",
    "A=M(f,[-1,2],0.01)\n",
    "print(\" \")\n",
    "print(A) "
   ]
  },
  {
   "cell_type": "markdown",
   "metadata": {},
   "source": [
    "*Построение линий уровня и траектории поиска*"
   ]
  },
  {
   "cell_type": "code",
   "execution_count": 5,
   "metadata": {
    "collapsed": false
   },
   "outputs": [
    {
     "data": {
      "image/png": "[encoded data removed]",
      "text/plain": [
       "<matplotlib.figure.Figure at 0xf0a711c320>"
      ]
     },
     "metadata": {},
     "output_type": "display_data"
    }
   ],
   "source": [
    "% matplotlib inline\n",
    "x = np.arange (-3, 4, 0.1)\n",
    "y = np.arange (-3, 4, 0.1)\n",
    "xg, yg = np.meshgrid(x, y)\n",
    "level =[0.1,0.5,1,2,3,4,5,6,7,8,9,10,15,20]\n",
    "z =f(np.meshgrid(x, y))\n",
    "pylab.contour(xg, yg, z,level)\n",
    "pylab.plot(A[:,0] ,A[:,1])\n",
    "pylab.grid(True)\n",
    "pylab.show()"
   ]
  },
  {
   "cell_type": "markdown",
   "metadata": {},
   "source": [
    "*Оценим овражность*"
   ]
  },
  {
   "cell_type": "code",
   "execution_count": 6,
   "metadata": {
    "collapsed": false
   },
   "outputs": [
    {
     "name": "stdout",
     "output_type": "stream",
     "text": [
      "Матрица Гессе:\n",
      "[[ 4.  0.]\n",
      " [ 0.  6.]]\n",
      "Собственные значения матрицы:\n",
      "[ 4.+0.j  6.+0.j]\n",
      "Овражность\n",
      "(1.5+0j)\n"
     ]
    }
   ],
   "source": [
    "point=(A[len(A)-1][0],A[len(A)-1][1])\n",
    "p=np.array(point,dtype=np.double) \n",
    "h=0.01\n",
    "H=np.zeros((len(p), len(p)),dtype=np.double)\n",
    "for i in range(len(p)):\n",
    "    for j in range(len(p)):\n",
    "            p[i]=p[i]+h\n",
    "            p[j]= p[j]+h\n",
    "            q=f(p)\n",
    "            p[j]= p[j]-2*h\n",
    "            c=f(p)\n",
    "            p[i]=p[i]-2*h\n",
    "            p[j]= p[j]+2*h\n",
    "            r=f(p)\n",
    "            p[j]= p[j]-2*h\n",
    "            b=f(p)\n",
    "            p=np.array(point,dtype=np.double)\n",
    "            ddf=(q-r-c+b)/(4*h**2)\n",
    "            H[i][j]=ddf\n",
    "            \n",
    "print(\"Матрица Гессе:\")\n",
    "print(H)\n",
    "S=eigvals(H)\n",
    "print(\"Собственные значения матрицы:\")\n",
    "print(S)\n",
    "print(\"Овражность\")\n",
    "print(max(S)/min(S))"
   ]
  },
  {
   "cell_type": "markdown",
   "metadata": {},
   "source": [
    "### Задание 2"
   ]
  },
  {
   "cell_type": "markdown",
   "metadata": {},
   "source": [
    "*Обеспечить работу программы с функциями любой размерности (до  10 включительно)*"
   ]
  },
  {
   "cell_type": "code",
   "execution_count": 6,
   "metadata": {
    "collapsed": true
   },
   "outputs": [],
   "source": [
    "def f2 (p):\n",
    "    z=(p[0])**2+(p[1]-1)**2+(p[2]-2)**2+(p[3]-3)**2+(p[4]-4)**2++(p[5]-5)**2+(p[6]-6)**2+(p[7]-7)**2+(p[8]-8)**2++(p[9]-9)**2\n",
    "    return z"
   ]
  },
  {
   "cell_type": "code",
   "execution_count": 7,
   "metadata": {
    "collapsed": false
   },
   "outputs": [
    {
     "name": "stdout",
     "output_type": "stream",
     "text": [
      " \n",
      "[-0.02  1.    2.    3.    4.    5.    6.    7.    8.    9.  ]\n"
     ]
    }
   ],
   "source": [
    "def M (F,point,e):\n",
    "    p=np.array(point,dtype=np.double)\n",
    "    pn=np.array(point,dtype=np.double)\n",
    "    X=np.array(point,dtype=np.double)\n",
    "    while True:\n",
    "        # grad\n",
    "        h=0.01\n",
    "        g=[]\n",
    "        for i in range(len(point)):\n",
    "            q=F(p)\n",
    "            p[i]=p[i]+h\n",
    "            r= F(p)\n",
    "            p[i]=p[i]+h\n",
    "            c=F(p)\n",
    "            df=(-3*q+4*r-c)/(2*h)\n",
    "            p[i]=p[i]-2*h\n",
    "            g.append(df)\n",
    "        g=np.array(g,dtype=np.double)\n",
    "        g=-g\n",
    "        g=transpose(g)\n",
    "    \n",
    "       \n",
    "        H=np.zeros((len(p), len(p)),dtype=np.double)\n",
    "        for i in range(len(p)):\n",
    "            for j in range(len(p)):\n",
    "                    p[i]=p[i]+h\n",
    "                    p[j]= p[j]+h\n",
    "                    q=F(p)\n",
    "                    p[j]= p[j]-2*h\n",
    "                    c=F(p)\n",
    "                    p[i]=p[i]-2*h\n",
    "                    p[j]= p[j]+2*h\n",
    "                    r=F(p)\n",
    "                    p[j]= p[j]-2*h\n",
    "                    b=F(p)\n",
    "                    p=np.array(pn,dtype=np.double)\n",
    "                    ddf=(q-r-c+b)/(4*h**2)\n",
    "                    H[i][j]=ddf\n",
    "\n",
    "        a=solve(H,g)\n",
    "        pn=p+a \n",
    "        if norm(F(p)-F(pn))<e:\n",
    "            break  \n",
    "        p=pn\n",
    "    return pn\n",
    "A=M(f2,[-2,7,2,-2,4,0,4,-4,1,-1],0.001)\n",
    "print(\" \")\n",
    "print(A) "
   ]
  },
  {
   "cell_type": "markdown",
   "metadata": {},
   "source": [
    "#### Выполнил Квашенников Дмитрий. 431 группа"
   ]
  }
 ],
 "metadata": {
  "anaconda-cloud": {},
  "kernelspec": {
   "display_name": "Python [Root]",
   "language": "python",
   "name": "Python [Root]"
  },
  "language_info": {
   "codemirror_mode": {
    "name": "ipython",
    "version": 3
   },
   "file_extension": ".py",
   "mimetype": "text/x-python",
   "name": "python",
   "nbconvert_exporter": "python",
   "pygments_lexer": "ipython3",
   "version": "3.5.2"
  }
 },
 "nbformat": 4,
 "nbformat_minor": 0
}
